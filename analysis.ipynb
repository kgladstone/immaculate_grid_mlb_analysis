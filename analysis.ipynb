{
 "cells": [
  {
   "cell_type": "code",
   "execution_count": 1,
   "id": "80e1bd21-21ed-439b-af8e-7e8003f7f92b",
   "metadata": {},
   "outputs": [],
   "source": [
    "import os\n",
    "import pickle\n",
    "import pandas as pd\n",
    "import re\n",
    "import json\n",
    "from pydantic import BaseModel\n",
    "import matplotlib.pyplot as plt\n",
    "from matplotlib.ticker import FuncFormatter\n",
    "from refresh_db import ImmaculateGridUtils\n",
    "import numpy as np\n",
    "from copy import deepcopy \n",
    "from typing import Dict, List, Tuple, Any\n",
    "import matplotlib.pyplot as plt\n",
    "from matplotlib.backends.backend_pdf import PdfPages\n",
    "from datetime import datetime, timedelta\n",
    "from io import StringIO\n",
    "import math\n",
    "\n",
    "###### ---> note the weekly report code has been moved to weekly_report.py\n"
   ]
  },
  {
   "cell_type": "code",
   "execution_count": 97,
   "id": "76ce37fc-d665-452b-a3e0-991c4ac525e6",
   "metadata": {},
   "outputs": [
    {
     "name": "stdout",
     "output_type": "stream",
     "text": [
      "False\n",
      "False\n",
      "False\n",
      "False\n",
      "True\n",
      "True\n",
      "True\n"
     ]
    }
   ],
   "source": [
    "# Not sure what this code does\n",
    "\n",
    "most_common_exact_intersections = {}\n",
    "\n",
    "for game in texts[\"Rachel\"]:\n",
    "    id = game.grid_number\n",
    "    prompt_rows = prompt_df[prompt_df[\"game_id\"] == id]\n",
    "    if len(prompt_rows) != 1:\n",
    "        continue\n",
    "    prompts = prompt_rows.iloc[0][1:]\n",
    "    for i in range(3):\n",
    "        for j in range(3):\n",
    "            part_one, part_two = get_categories_from_prompt(prompts[f\"{i}{j}\"])\n",
    "            teams = [get_team_from_category(part_one), get_team_from_category(part_two)]\n",
    "            if \"Guardians\" in teams and \"Athletics\" in teams:\n",
    "                print(game.matrix[i][j])"
   ]
  },
  {
   "cell_type": "code",
   "execution_count": 25,
   "id": "04e79274-8c0b-4efb-aea5-2b88e51825a8",
   "metadata": {},
   "outputs": [
    {
     "ename": "FileNotFoundError",
     "evalue": "[Errno 2] No such file or directory: './immaculate_grid_names.txt'",
     "output_type": "error",
     "traceback": [
      "\u001b[0;31m---------------------------------------------------------------------------\u001b[0m",
      "\u001b[0;31mFileNotFoundError\u001b[0m                         Traceback (most recent call last)",
      "Cell \u001b[0;32mIn[25], line 1\u001b[0m\n\u001b[0;32m----> 1\u001b[0m \u001b[38;5;28;01mwith\u001b[39;00m \u001b[38;5;28;43mopen\u001b[39;49m\u001b[43m(\u001b[49m\u001b[38;5;124;43m\"\u001b[39;49m\u001b[38;5;124;43m./immaculate_grid_names.txt\u001b[39;49m\u001b[38;5;124;43m\"\u001b[39;49m\u001b[43m)\u001b[49m \u001b[38;5;28;01mas\u001b[39;00m f:\n\u001b[1;32m      2\u001b[0m     names \u001b[38;5;241m=\u001b[39m [line\u001b[38;5;241m.\u001b[39mstrip() \u001b[38;5;28;01mfor\u001b[39;00m line \u001b[38;5;129;01min\u001b[39;00m f\u001b[38;5;241m.\u001b[39mreadlines()]\n",
      "File \u001b[0;32m/Library/Frameworks/Python.framework/Versions/3.12/lib/python3.12/site-packages/IPython/core/interactiveshell.py:324\u001b[0m, in \u001b[0;36m_modified_open\u001b[0;34m(file, *args, **kwargs)\u001b[0m\n\u001b[1;32m    317\u001b[0m \u001b[38;5;28;01mif\u001b[39;00m file \u001b[38;5;129;01min\u001b[39;00m {\u001b[38;5;241m0\u001b[39m, \u001b[38;5;241m1\u001b[39m, \u001b[38;5;241m2\u001b[39m}:\n\u001b[1;32m    318\u001b[0m     \u001b[38;5;28;01mraise\u001b[39;00m \u001b[38;5;167;01mValueError\u001b[39;00m(\n\u001b[1;32m    319\u001b[0m         \u001b[38;5;124mf\u001b[39m\u001b[38;5;124m\"\u001b[39m\u001b[38;5;124mIPython won\u001b[39m\u001b[38;5;124m'\u001b[39m\u001b[38;5;124mt let you open fd=\u001b[39m\u001b[38;5;132;01m{\u001b[39;00mfile\u001b[38;5;132;01m}\u001b[39;00m\u001b[38;5;124m by default \u001b[39m\u001b[38;5;124m\"\u001b[39m\n\u001b[1;32m    320\u001b[0m         \u001b[38;5;124m\"\u001b[39m\u001b[38;5;124mas it is likely to crash IPython. If you know what you are doing, \u001b[39m\u001b[38;5;124m\"\u001b[39m\n\u001b[1;32m    321\u001b[0m         \u001b[38;5;124m\"\u001b[39m\u001b[38;5;124myou can use builtins\u001b[39m\u001b[38;5;124m'\u001b[39m\u001b[38;5;124m open.\u001b[39m\u001b[38;5;124m\"\u001b[39m\n\u001b[1;32m    322\u001b[0m     )\n\u001b[0;32m--> 324\u001b[0m \u001b[38;5;28;01mreturn\u001b[39;00m \u001b[43mio_open\u001b[49m\u001b[43m(\u001b[49m\u001b[43mfile\u001b[49m\u001b[43m,\u001b[49m\u001b[43m \u001b[49m\u001b[38;5;241;43m*\u001b[39;49m\u001b[43margs\u001b[49m\u001b[43m,\u001b[49m\u001b[43m \u001b[49m\u001b[38;5;241;43m*\u001b[39;49m\u001b[38;5;241;43m*\u001b[39;49m\u001b[43mkwargs\u001b[49m\u001b[43m)\u001b[49m\n",
      "\u001b[0;31mFileNotFoundError\u001b[0m: [Errno 2] No such file or directory: './immaculate_grid_names.txt'"
     ]
    }
   ],
   "source": [
    "with open(\"./immaculate_grid_names.txt\") as f:\n",
    "    names = [line.strip() for line in f.readlines()]"
   ]
  },
  {
   "cell_type": "code",
   "execution_count": null,
   "id": "2ff89790-0e83-4fd5-9846-c6c928359d6c",
   "metadata": {},
   "outputs": [],
   "source": [
    "name_to_count = {}\n",
    "for name in names:\n",
    "    name_to_count[name] = name_to_count.get(name, 0) + 1\n",
    "sorted_names = sorted(name_to_count.items(), key=lambda x: x[1], reverse=True)"
   ]
  },
  {
   "cell_type": "code",
   "execution_count": null,
   "id": "3fc7e15e-7606-4dc9-a5f0-e418937a2fcf",
   "metadata": {},
   "outputs": [],
   "source": [
    "for i, (name, count) in enumerate(sorted_names):\n",
    "    print(f\"{i + 1}. {name} ({count})\")"
   ]
  },
  {
   "cell_type": "code",
   "execution_count": null,
   "id": "9dc03c88-30d0-4a76-87ed-99198f994ae1",
   "metadata": {},
   "outputs": [],
   "source": [
    "def create_variants(existing, all):\n",
    "    if len(existing) == 9:\n",
    "        all.add(\"\".join([str(x) for x in existing]))\n",
    "        return\n",
    "    create_variants(deepcopy(existing) + [0], all)\n",
    "    create_variants(deepcopy(existing) + [1], all)\n",
    "    return\n",
    "combos = set()\n",
    "create_variants([], combos)"
   ]
  },
  {
   "cell_type": "code",
   "execution_count": null,
   "id": "b286968f-d504-4551-8cb0-6315353ace71",
   "metadata": {},
   "outputs": [],
   "source": [
    "# Get the current grid number by selecting the max grid number from all ImmaculateGridResult objects for each person\n",
    "current_grid_number = max(\n",
    "    [\n",
    "        max(\n",
    "            [result.grid_number for result in texts[person] if result.grid_number is not None]\n",
    "        )\n",
    "        for person in texts\n",
    "    ]\n",
    ")\n",
    "\n",
    "# copied_variants = deepcopy(combos)\n",
    "# full_combos = set()\n",
    "# dates = []\n",
    "# for grid_num in range(current_grid_number):\n",
    "#     for person in texts:\n",
    "#         if grid_num not in texts[person]:\n",
    "#             continue\n",
    "#         obj = texts[person][grid_num]\n",
    "#         current = \"\"\n",
    "#         for text_row in obj.text.split(\"\\n\"):\n",
    "#             for char in text_row:\n",
    "#                 if ord(char) == 11036: #\"⬜️\":\n",
    "#                     current += \"0\"\n",
    "#                 elif ord(char) == 129001: #\"🟩\":\n",
    "#                     current += \"1\"\n",
    "#         assert len(current) == 9\n",
    "#         full_combos.add(current)\n",
    "#         if current in copied_variants:\n",
    "#             copied_variants.remove(current)\n",
    "#             dates.append((obj.date, grid_num, person, current, obj.text))\n",
    "\n",
    "# sorted_dates = sorted(dates, key = lambda x: x[1], reverse=True)\n",
    "# for date, _, person, combo, text in sorted_dates[:10]:\n",
    "#     print(person, date, \"\\n\", text, end=\"\\n\\n\\n\")"
   ]
  },
  {
   "cell_type": "code",
   "execution_count": null,
   "id": "936786f6-1700-4434-900e-3842c6130821",
   "metadata": {},
   "outputs": [],
   "source": [
    "texts[\"Keith\"][152]"
   ]
  },
  {
   "cell_type": "code",
   "execution_count": null,
   "id": "28a563d2-a34d-4b55-b120-c3f5a911199e",
   "metadata": {},
   "outputs": [],
   "source": []
  }
 ],
 "metadata": {
  "kernelspec": {
   "display_name": "Python 3 (ipykernel)",
   "language": "python",
   "name": "python3"
  },
  "language_info": {
   "codemirror_mode": {
    "name": "ipython",
    "version": 3
   },
   "file_extension": ".py",
   "mimetype": "text/x-python",
   "name": "python",
   "nbconvert_exporter": "python",
   "pygments_lexer": "ipython3",
   "version": "3.12.6"
  }
 },
 "nbformat": 4,
 "nbformat_minor": 5
}
